{
 "cells": [
  {
   "cell_type": "code",
   "execution_count": null,
   "id": "faa2943d",
   "metadata": {},
   "outputs": [],
   "source": [
    "import pandas as pd\n",
    "import numpy as np\n",
    "import matplotlib.pyplot as plt\n",
    "import requests\n",
    "#import geopandas as gpd\n",
    "#import folium\n",
    "#from shapely.geometry import point\n",
    "#from folium.plugins import MarkerCluster\n",
    "\n",
    "\n",
    "%matplotlib inline"
   ]
  },
  {
   "cell_type": "code",
   "execution_count": null,
   "id": "62dd5c8f",
   "metadata": {},
   "outputs": [],
   "source": [
    "#pd.set_option('display.max_rows', 10)"
   ]
  },
  {
   "cell_type": "markdown",
   "id": "e50cb83a",
   "metadata": {},
   "source": [
    "## Imported and appended all excel files and corresponding worksheets"
   ]
  },
  {
   "cell_type": "code",
   "execution_count": null,
   "id": "88d9eee3",
   "metadata": {
    "scrolled": true
   },
   "outputs": [],
   "source": [
    "file = pd.ExcelFile('../Data/overall_statepop_clean.xlsx')\n",
    "names = file.sheet_names\n",
    "overall_statepop = pd.concat([file.parse(name) for name in names])\n",
    "overall_statepop = overall_statepop.reset_index(drop=True)"
   ]
  },
  {
   "cell_type": "code",
   "execution_count": null,
   "id": "efa24afe",
   "metadata": {},
   "outputs": [],
   "source": [
    "file = pd.ExcelFile('../Data/overall_cocpop_clean.xlsx')\n",
    "names = file.sheet_names\n",
    "overall_cocpop = pd.concat([file.parse(name) for name in names])\n",
    "overall_cocpop = overall_cocpop.reset_index(drop=True)"
   ]
  },
  {
   "cell_type": "code",
   "execution_count": null,
   "id": "9f8443c6",
   "metadata": {},
   "outputs": [],
   "source": [
    "file = pd.ExcelFile('../Data/category_state.xlsx')\n",
    "names = file.sheet_names\n",
    "state_category = pd.concat([file.parse(name) for name in names])\n",
    "state_category = state_category.reset_index(drop=True)"
   ]
  },
  {
   "cell_type": "code",
   "execution_count": null,
   "id": "87669667",
   "metadata": {},
   "outputs": [],
   "source": [
    "file = pd.ExcelFile('../Data/category_cocpop.xlsx')\n",
    "names = file.sheet_names\n",
    "coc_category = pd.concat([file.parse(name) for name in names])\n",
    "coc_category = coc_category.reset_index(drop=True)"
   ]
  },
  {
   "cell_type": "code",
   "execution_count": null,
   "id": "4ea19384",
   "metadata": {},
   "outputs": [],
   "source": [
    "file = pd.ExcelFile('../Data/beds_state.xlsx')\n",
    "names = file.sheet_names\n",
    "state_beds = pd.concat([file.parse(name) for name in names])\n",
    "state_beds = state_beds.reset_index(drop=True)"
   ]
  },
  {
   "cell_type": "code",
   "execution_count": null,
   "id": "9e754ce1",
   "metadata": {},
   "outputs": [],
   "source": [
    "file = pd.ExcelFile('../Data/coc_beds.xlsx')\n",
    "names = file.sheet_names\n",
    "coc_beds = pd.concat([file.parse(name) for name in names])\n",
    "coc_beds = coc_beds.reset_index(drop=True)"
   ]
  },
  {
   "cell_type": "code",
   "execution_count": null,
   "id": "79aa762a",
   "metadata": {},
   "outputs": [],
   "source": [
    "overall_statepop"
   ]
  },
  {
   "cell_type": "markdown",
   "id": "0980ccd0",
   "metadata": {},
   "source": [
    "## Census API for loop "
   ]
  },
  {
   "cell_type": "code",
   "execution_count": null,
   "id": "7a3ba507",
   "metadata": {},
   "outputs": [],
   "source": [
    "#from census import Census\n",
    "#from us import states\n",
    "\n",
    "#c = Census('API Key')\n",
    "\n",
    "#census_df = c.acs.get(('NAME', 'B01001_001E'), {'for': 'state:*'}, year=2009)\n",
    "#census_df = pd.DataFrame(census_df)\n",
    "#census_df = census_df.rename(columns={'B01001_001E':'2009'}).drop(columns='state')\n",
    "\n",
    "#loop_df = pd.DataFrame()\n",
    "#loop_dict = {}\n",
    "#for i in range(2010,2021):\n",
    "#    loop_dict = c.acs.get(('NAME', 'B01001_001E'), {'for': 'state:*'}, year=i)\n",
    "#    loop_df = pd.DataFrame(loop_dict)\n",
    "#    loop_df = loop_df.rename(columns={'B01001_001E':str(i)}).drop(columns ='state')\n",
    "#    loop_df = loop_df.loc[loop_df.NAME != 'Puerto Rico'].reset_index(drop=True)\n",
    "#    census_df = census_df.merge(loop_df, on = 'NAME')\n",
    "\n",
    "#census_df.head()"
   ]
  },
  {
   "cell_type": "code",
   "execution_count": null,
   "id": "163b8ab3",
   "metadata": {},
   "outputs": [],
   "source": [
    "#census_df.to_excel('census_data.xlsx', sheet_name = 'census')"
   ]
  },
  {
   "cell_type": "code",
   "execution_count": null,
   "id": "2dc31341",
   "metadata": {},
   "outputs": [],
   "source": [
    "census_df = pd.read_excel('../Data/census_data.xlsx')\n",
    "census_df.drop(columns='Unnamed: 0', inplace = True)\n",
    "census_df.head()"
   ]
  },
  {
   "cell_type": "code",
   "execution_count": null,
   "id": "aae43c7d",
   "metadata": {},
   "outputs": [],
   "source": [
    "#geo_coc = gpd.read_file('../Data/CoC_GIS_National_Boundary_2020/FY20_CoC_National_Bnd.gdb')"
   ]
  }
 ],
 "metadata": {
  "kernelspec": {
   "display_name": "Python 3 (ipykernel)",
   "language": "python",
   "name": "python3"
  },
  "language_info": {
   "codemirror_mode": {
    "name": "ipython",
    "version": 3
   },
   "file_extension": ".py",
   "mimetype": "text/x-python",
   "name": "python",
   "nbconvert_exporter": "python",
   "pygments_lexer": "ipython3",
   "version": "3.9.7"
  }
 },
 "nbformat": 4,
 "nbformat_minor": 5
}
