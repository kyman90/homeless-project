{
 "cells": [
  {
   "cell_type": "code",
   "execution_count": null,
   "id": "faa2943d",
   "metadata": {},
   "outputs": [],
   "source": [
    "import pandas as pd\n",
    "import numpy as np\n",
    "import matplotlib.pyplot as plt\n",
    "import requests\n",
    "#import geopandas as gpd\n",
    "#import folium\n",
    "#from shapely.geometry import point\n",
    "#from folium.plugins import MarkerCluster\n",
    "\n",
    "\n",
    "%matplotlib inline"
   ]
  },
  {
   "cell_type": "code",
   "execution_count": null,
   "id": "62dd5c8f",
   "metadata": {},
   "outputs": [],
   "source": [
    "#pd.set_option('display.max_rows', 10)"
   ]
  },
  {
   "cell_type": "markdown",
   "id": "e50cb83a",
   "metadata": {},
   "source": [
    "## Imported and appended all excel files and corresponding worksheets"
   ]
  },
  {
   "cell_type": "code",
   "execution_count": null,
   "id": "88d9eee3",
   "metadata": {
    "scrolled": true
   },
   "outputs": [],
   "source": [
    "file = pd.ExcelFile('../Data/overall_statepop_clean.xlsx')\n",
    "names = file.sheet_names\n",
    "overall_statepop = pd.concat([file.parse(name) for name in names])\n",
    "overall_statepop = overall_statepop.reset_index(drop=True)"
   ]
  },
  {
   "cell_type": "code",
   "execution_count": null,
   "id": "efa24afe",
   "metadata": {},
   "outputs": [],
   "source": [
    "file = pd.ExcelFile('../Data/overall_cocpop_clean.xlsx')\n",
    "names = file.sheet_names\n",
    "overall_cocpop = pd.concat([file.parse(name) for name in names])\n",
    "overall_cocpop = overall_cocpop.reset_index(drop=True)"
   ]
  },
  {
   "cell_type": "code",
   "execution_count": null,
   "id": "9f8443c6",
   "metadata": {},
   "outputs": [],
   "source": [
    "file = pd.ExcelFile('../Data/category_state.xlsx')\n",
    "names = file.sheet_names\n",
    "state_category = pd.concat([file.parse(name) for name in names])\n",
    "state_category = state_category.reset_index(drop=True)\n",
    "state_category"
   ]
  },
  {
   "cell_type": "code",
   "execution_count": null,
   "id": "87669667",
   "metadata": {},
   "outputs": [],
   "source": [
    "file = pd.ExcelFile('../Data/category_cocpop.xlsx')\n",
    "names = file.sheet_names\n",
    "coc_category = pd.concat([file.parse(name) for name in names])\n",
    "coc_category = coc_category.reset_index(drop=True)"
   ]
  },
  {
   "cell_type": "code",
   "execution_count": null,
   "id": "4ea19384",
   "metadata": {},
   "outputs": [],
   "source": [
    "file = pd.ExcelFile('../Data/beds_state.xlsx')\n",
    "names = file.sheet_names\n",
    "state_beds = pd.concat([file.parse(name) for name in names])\n",
    "state_beds = state_beds.reset_index(drop=True)"
   ]
  },
  {
   "cell_type": "code",
   "execution_count": null,
   "id": "9e754ce1",
   "metadata": {},
   "outputs": [],
   "source": [
    "file = pd.ExcelFile('../Data/coc_beds.xlsx')\n",
    "names = file.sheet_names\n",
    "coc_beds = pd.concat([file.parse(name) for name in names])\n",
    "coc_beds = coc_beds.reset_index(drop=True)"
   ]
  },
  {
   "cell_type": "code",
   "execution_count": null,
   "id": "79aa762a",
   "metadata": {},
   "outputs": [],
   "source": [
    "overall_statepop"
   ]
  },
  {
   "cell_type": "markdown",
   "id": "0980ccd0",
   "metadata": {},
   "source": [
    "## Census API for loop "
   ]
  },
  {
   "cell_type": "code",
   "execution_count": null,
   "id": "7a3ba507",
   "metadata": {},
   "outputs": [],
   "source": [
    "#from census import Census\n",
    "#from us import states\n",
    "\n",
    "#c = Census('API Key')\n",
    "\n",
    "#census_df = c.acs.get(('NAME', 'B01001_001E'), {'for': 'state:*'}, year=2009)\n",
    "#census_df = pd.DataFrame(census_df)\n",
    "#census_df = census_df.rename(columns={'B01001_001E':'2009'}).drop(columns='state')\n",
    "\n",
    "#loop_df = pd.DataFrame()\n",
    "#loop_dict = {}\n",
    "#for i in range(2010,2021):\n",
    "#    loop_dict = c.acs.get(('NAME', 'B01001_001E'), {'for': 'state:*'}, year=i)\n",
    "#    loop_df = pd.DataFrame(loop_dict)\n",
    "#    loop_df = loop_df.rename(columns={'B01001_001E':str(i)}).drop(columns ='state')\n",
    "#    loop_df = loop_df.loc[loop_df.NAME != 'Puerto Rico'].reset_index(drop=True)\n",
    "#    census_df = census_df.merge(loop_df, on = 'NAME')\n",
    "\n",
    "#census_df.head()"
   ]
  },
  {
   "cell_type": "code",
   "execution_count": null,
   "id": "163b8ab3",
   "metadata": {},
   "outputs": [],
   "source": [
    "#census_df.to_excel('census_data.xlsx', sheet_name = 'census')"
   ]
  },
  {
   "cell_type": "code",
   "execution_count": null,
   "id": "2dc31341",
   "metadata": {},
   "outputs": [],
   "source": [
    "census_df = pd.read_excel('../Data/census_data.xlsx')\n",
    "census_df.drop(columns='Unnamed: 0', inplace = True)\n",
    "census_df.rename(columns = {'NAME':'State'}, inplace = True)\n",
    "census_df.head()"
   ]
  },
  {
   "cell_type": "markdown",
   "id": "c9f4b450",
   "metadata": {},
   "source": [
    "## For loop for percent of homeless overall "
   ]
  },
  {
   "cell_type": "code",
   "execution_count": null,
   "id": "6c82d92a",
   "metadata": {},
   "outputs": [],
   "source": [
    "test = []\n",
    "test1 = []\n",
    "test2 = []\n",
    "test3 = []\n",
    "test4 = []\n",
    "test5 = []\n",
    "test6 = []\n",
    "for i in range(2009,2021):\n",
    "    test.append((overall_statepop['Overall Homeless'].loc[overall_statepop['Year'] == i].sum() / census_df[str(i)].sum()) * 100)\n",
    "    test1.append(i)\n",
    "    test2.append(((overall_statepop['Sheltered Total Homeless'].loc[overall_statepop['Year'] == i].sum() / overall_statepop['Overall Homeless'].loc[overall_statepop['Year'] == i].sum()) * 100))\n",
    "    test3.append(((overall_statepop['Unsheltered Total Homeless'].loc[overall_statepop['Year'] == i].sum() / overall_statepop['Overall Homeless'].loc[overall_statepop['Year'] == i].sum()) * 100))\n",
    "    test4.append(((state_category['Overall Homeless Veterans'].loc[state_category['Year'] == i].sum() / state_category['Overall Homeless'].loc[state_category['Year'] == i].sum()) * 100))\n",
    "    test5.append(((state_category['Overall Homeless Youth'].loc[state_category['Year'] == i].sum() / state_category['Overall Homeless'].loc[state_category['Year'] == i].sum()) * 100))\n",
    "    test6.append(((state_category['Overall Homeless People in Families'].loc[state_category['Year'] == i].sum() / state_category['Overall Homeless'].loc[state_category['Year'] == i].sum()) * 100))\n",
    "year_perc = pd.DataFrame()\n",
    "year_perc['Year'] = test1\n",
    "year_perc['Percent_Overall_Pop'] = test\n",
    "year_perc['Sheltered_Perc'] = test2\n",
    "year_perc['Unsheltered_Perc'] = test3\n",
    "year_perc['Veteran_Perc'] = test4\n",
    "year_perc['Youth_Perc'] = test5\n",
    "year_perc['Families_Perc'] = test6\n",
    "year_perc"
   ]
  },
  {
   "cell_type": "markdown",
   "id": "d9444d36",
   "metadata": {},
   "source": [
    "## Calculating beds per homeless overall"
   ]
  },
  {
   "cell_type": "code",
   "execution_count": null,
   "id": "098b0d82",
   "metadata": {},
   "outputs": [],
   "source": [
    "beds_pop = pd.merge(overall_statepop, state_beds)\n",
    "beds_pop['Beds_Per_Homeless'] = beds_pop['Total Year-Round Beds'] / beds_pop['Overall Homeless']\n",
    "beds_pop"
   ]
  },
  {
   "cell_type": "markdown",
   "id": "dbdac9e4",
   "metadata": {},
   "source": [
    "## Calculating beds per homeless categories by state"
   ]
  },
  {
   "cell_type": "code",
   "execution_count": null,
   "id": "b9108c32",
   "metadata": {},
   "outputs": [],
   "source": [
    "beds_per_category = pd.merge(state_category, state_beds)\n",
    "beds_per_category['Beds_Veteran'] = beds_per_category['Dedicated Veteran Beds'] / beds_per_category['Overall Homeless Veterans']\n",
    "beds_per_category['Beds_Youth'] = beds_per_category['Dedicated Youth Beds'] / beds_per_category['Overall Homeless Veterans']\n",
    "beds_per_category['Beds_Families'] = beds_per_category['Total Beds for Households with Children'] / beds_per_category['Overall Homeless Veterans']\n",
    "beds_per_category['Beds_Families_NoKids'] = beds_per_category['Total Beds for Households without Children'] / beds_per_category['Overall Homeless Veterans']\n",
    "beds_per_category"
   ]
  },
  {
   "cell_type": "markdown",
   "id": "83e4ae8a",
   "metadata": {},
   "source": [
    "## Calculating beds per homeless categories by Continuum of Cares"
   ]
  },
  {
   "cell_type": "code",
   "execution_count": null,
   "id": "3a8caac8",
   "metadata": {},
   "outputs": [],
   "source": [
    "coc_merge = pd.merge(coc_category, coc_beds)\n",
    "coc_merge['Beds_Veteran'] = coc_merge['Dedicated Veteran Beds'] / coc_merge['Overall Homeless Veterans']\n",
    "coc_merge['Beds_Youth'] = coc_merge['Dedicated Youth Beds'] / coc_merge['Overall Homeless Veterans']\n",
    "coc_merge['Beds_Families'] = coc_merge['Total Beds for Households with Children'] / coc_merge['Overall Homeless Veterans']\n",
    "coc_merge['Beds_Families_NoKids'] = coc_merge['Total Beds for Households without Children'] / coc_merge['Overall Homeless Veterans']\n",
    "coc_merge['Peds_Per_Homeless'] = coc_merge['Total Year-Round Beds'] / coc_merge['Overall Homeless']\n",
    "coc_merge['State'] = coc_merge['CoC Number'].str.extract(r'(^[A-Z]{2})')\n",
    "coc_merge"
   ]
  },
  {
   "cell_type": "markdown",
   "id": "09778891",
   "metadata": {},
   "source": [
    "## Census by state, changed to abbreviations, merged with overall dataframe"
   ]
  },
  {
   "cell_type": "code",
   "execution_count": null,
   "id": "f9915f3b",
   "metadata": {},
   "outputs": [],
   "source": [
    "pop_by_state = pd.read_excel('../Data/census_by_state.xlsx')\n",
    "pop_by_state"
   ]
  },
  {
   "cell_type": "code",
   "execution_count": null,
   "id": "881c7c0c",
   "metadata": {},
   "outputs": [],
   "source": [
    "us_state_to_abbrev = {\n",
    "    \"Alabama\": \"AL\",\n",
    "    \"Alaska\": \"AK\",\n",
    "    \"Arizona\": \"AZ\",\n",
    "    \"Arkansas\": \"AR\",\n",
    "    \"California\": \"CA\",\n",
    "    \"Colorado\": \"CO\",\n",
    "    \"Connecticut\": \"CT\",\n",
    "    \"Delaware\": \"DE\",\n",
    "    \"Florida\": \"FL\",\n",
    "    \"Georgia\": \"GA\",\n",
    "    \"Hawaii\": \"HI\",\n",
    "    \"Idaho\": \"ID\",\n",
    "    \"Illinois\": \"IL\",\n",
    "    \"Indiana\": \"IN\",\n",
    "    \"Iowa\": \"IA\",\n",
    "    \"Kansas\": \"KS\",\n",
    "    \"Kentucky\": \"KY\",\n",
    "    \"Louisiana\": \"LA\",\n",
    "    \"Maine\": \"ME\",\n",
    "    \"Maryland\": \"MD\",\n",
    "    \"Massachusetts\": \"MA\",\n",
    "    \"Michigan\": \"MI\",\n",
    "    \"Minnesota\": \"MN\",\n",
    "    \"Mississippi\": \"MS\",\n",
    "    \"Missouri\": \"MO\",\n",
    "    \"Montana\": \"MT\",\n",
    "    \"Nebraska\": \"NE\",\n",
    "    \"Nevada\": \"NV\",\n",
    "    \"New Hampshire\": \"NH\",\n",
    "    \"New Jersey\": \"NJ\",\n",
    "    \"New Mexico\": \"NM\",\n",
    "    \"New York\": \"NY\",\n",
    "    \"North Carolina\": \"NC\",\n",
    "    \"North Dakota\": \"ND\",\n",
    "    \"Ohio\": \"OH\",\n",
    "    \"Oklahoma\": \"OK\",\n",
    "    \"Oregon\": \"OR\",\n",
    "    \"Pennsylvania\": \"PA\",\n",
    "    \"Rhode Island\": \"RI\",\n",
    "    \"South Carolina\": \"SC\",\n",
    "    \"South Dakota\": \"SD\",\n",
    "    \"Tennessee\": \"TN\",\n",
    "    \"Texas\": \"TX\",\n",
    "    \"Utah\": \"UT\",\n",
    "    \"Vermont\": \"VT\",\n",
    "    \"Virginia\": \"VA\",\n",
    "    \"Washington\": \"WA\",\n",
    "    \"West Virginia\": \"WV\",\n",
    "    \"Wisconsin\": \"WI\",\n",
    "    \"Wyoming\": \"WY\",\n",
    "    \"District of Columbia\": \"DC\",\n",
    "    \"American Samoa\": \"AS\",\n",
    "    \"Guam\": \"GU\",\n",
    "    \"Northern Mariana Islands\": \"MP\",\n",
    "    \"Puerto Rico\": \"PR\",\n",
    "    \"United States Minor Outlying Islands\": \"UM\",\n",
    "    \"U.S. Virgin Islands\": \"VI\",\n",
    "}"
   ]
  },
  {
   "cell_type": "code",
   "execution_count": null,
   "id": "239ede40",
   "metadata": {},
   "outputs": [],
   "source": [
    "pop_by_state = pop_by_state.replace({'State': us_state_to_abbrev})\n",
    "pop_by_state"
   ]
  },
  {
   "cell_type": "code",
   "execution_count": null,
   "id": "d2aea291",
   "metadata": {},
   "outputs": [],
   "source": [
    "pop_by_state = pd.merge(beds_pop, pop_by_state)\n",
    "pop_by_state"
   ]
  },
  {
   "cell_type": "code",
   "execution_count": null,
   "id": "9fb7c284",
   "metadata": {},
   "outputs": [],
   "source": [
    "pop_by_state['Homeless Perc'] = (pop_by_state['Overall Homeless'] / pop_by_state['Population']) * 100\n",
    "pop_by_state"
   ]
  },
  {
   "cell_type": "markdown",
   "id": "3ff37ee9",
   "metadata": {},
   "source": [
    "## Exported all cleaned/aggregated dataframes to Excel"
   ]
  },
  {
   "cell_type": "code",
   "execution_count": null,
   "id": "fbf17c1b",
   "metadata": {},
   "outputs": [],
   "source": [
    "#beds_pop.to_excel('beds_pop.xlsx', sheet_name = 'overall')\n",
    "#beds_per_category.to_excel('beds_per_category.xlsx', sheet_name = 'beds_category')\n",
    "#coc_merge.to_excel('coc_merge.xlsx', sheet_name = 'coc_data')\n",
    "#year_perc.to_excel('year_percent.xlsx', sheet_name = 'percentages')\n",
    "#pop_by_state.to_excel('pop_by_state.xlsx', sheet_name = 'State Pop')"
   ]
  },
  {
   "cell_type": "code",
   "execution_count": null,
   "id": "aae43c7d",
   "metadata": {},
   "outputs": [],
   "source": [
    "#geo_coc = gpd.read_file('../Data/CoC_GIS_National_Boundary_2020/FY20_CoC_National_Bnd.gdb')\n",
    "#geo_coc"
   ]
  },
  {
   "cell_type": "code",
   "execution_count": null,
   "id": "d64eae60",
   "metadata": {},
   "outputs": [],
   "source": [
    "#geo_coc.to_excel('geo_coc.xlsx', sheet_name = 'geo')"
   ]
  }
 ],
 "metadata": {
  "kernelspec": {
   "display_name": "Python 3 (ipykernel)",
   "language": "python",
   "name": "python3"
  },
  "language_info": {
   "codemirror_mode": {
    "name": "ipython",
    "version": 3
   },
   "file_extension": ".py",
   "mimetype": "text/x-python",
   "name": "python",
   "nbconvert_exporter": "python",
   "pygments_lexer": "ipython3",
   "version": "3.9.7"
  }
 },
 "nbformat": 4,
 "nbformat_minor": 5
}
